{
 "cells": [
  {
   "cell_type": "code",
   "execution_count": 1,
   "id": "38aae083-b53d-41b0-8670-263711e2d3b1",
   "metadata": {
    "tags": []
   },
   "outputs": [],
   "source": [
    "from time import sleep\n",
    "# from fb import getfeedback\n",
    "import pandas as pd\n",
    "\n",
    "from selenium import webdriver\n",
    "from selenium.webdriver.common.by import By\n",
    "from selenium.webdriver.support.select import Select\n",
    "\n",
    "# from pyshadow.main import Shadow\n",
    "# from webdriver_manager.chrome import ChromeDriverManager\n",
    "# driver = webdriver.Chrome(ChromeDriverManager().install())\n",
    "\n",
    "# driver = webdriver.Firefox()\n",
    "\n",
    "import pyperclip\n"
   ]
  },
  {
   "cell_type": "code",
   "execution_count": 2,
   "id": "d67aad4e-5d66-4b08-a7f1-829f1728860b",
   "metadata": {
    "tags": []
   },
   "outputs": [],
   "source": [
    "def getfeedback(student):\n",
    "    data = pd.read_csv(\"feedback.csv\")\n",
    "    fb = data[data[\"Name\"]==student].iloc[0][\"Feedback\"] \n",
    "    return fb\n",
    "    \n",
    "def getstudent():\n",
    "    with open(\"status.txt\") as f:\n",
    "        iloc = int(f.read())\n",
    "    student = pd.read_csv(\"feedback.csv\").iloc[iloc]\n",
    "    name = student[\"Name\"]\n",
    "    # fb = getfeedback(name)\n",
    "    fb = student[\"Feedback\"]\n",
    "    score = student[\"Total\"]\n",
    "    # pyperclip.copy(fb)\n",
    "    # print(name,fb)\n",
    "\n",
    "    return name,score,fb,iloc\n",
    "\n",
    "# getstudent()"
   ]
  },
  {
   "cell_type": "code",
   "execution_count": 3,
   "id": "2cc4b866-f2e4-471d-9fcc-ed2357965a02",
   "metadata": {
    "tags": []
   },
   "outputs": [],
   "source": [
    "def login(first=True):\n",
    "    \n",
    "    driver.get(\"https://courses.uscden.net/d2l/lms/dropbox/admin/mark/folder_submissions_users.d2l?db=28482&ou=26184\")\n",
    "\n",
    "    if first:\n",
    "    \n",
    "        driver.find_element(By.XPATH,'//*[@id=\"userName\"]').send_keys(\"sbmohant@usc.edu\")\n",
    "        driver.find_element(By.XPATH,'//*[@id=\"password\"]').send_keys(\"Sampad@777\")\n",
    "\n",
    "        driver.find_element(By.CLASS_NAME,'d2l-button').click()\n",
    "        sleep(1)\n",
    "        driver.find_element(By.XPATH,'/html/body/header/nav/d2l-navigation/d2l-navigation-main-footer/div/div[1]/div[5]/d2l-dropdown/button/span/span').click()\n",
    "        sleep(1)\n",
    "        # driver.find_element(By.XPATH,'/html/body/header/nav/d2l-navigation/d2l-navigation-main-footer/div/div[1]/div[5]/d2l-dropdown/d2l-dropdown-menu/d2l-menu/d2l-menu-item-link[5]').click()\n",
    "        # driver.find_element(By.XPATH,'/html/body/div[2]/div/div[2]/div/div/div[2]/form/div/div/div/div/d2l-table-wrapper/table/tbody/tr[8]/th/div/div/div[1]/div/div/div/a').click()\n",
    "\n",
    "    \n",
    "def page(i):\n",
    "    sleep(0.5)\n",
    "    Select(driver.find_element(By.XPATH,'//*[@title=\"Page Number\"]')).select_by_value(str(i))\n",
    "    \n",
    "    \n",
    "# login()"
   ]
  },
  {
   "cell_type": "code",
   "execution_count": 4,
   "id": "6255d380-59d8-41e7-bd55-2f65ea5f170e",
   "metadata": {
    "tags": []
   },
   "outputs": [],
   "source": [
    "def dostudent(name):\n",
    "    icount=1\n",
    "    rownum=1\n",
    "    while icount<=200:\n",
    "        studentxpath = f\"/html/body/div[2]/div/div[2]/div/div/div/form/div/div/div[2]/div[3]/div[3]/d2l-table-wrapper/table/tbody/tr[{rownum}]/th/table/tbody/tr/td[1]/a/label\"\n",
    "        evaluatexpath = f\"/html/body/div[2]/div/div[2]/div/div/div/form/div/div/div[2]/div[3]/div[3]/d2l-table-wrapper/table/tbody/tr[{rownum}]/th/table/tbody/tr/td[3]/a\"\n",
    "        try:\n",
    "            foundname=driver.find_element(By.XPATH, studentxpath).text\n",
    "            icount+=1\n",
    "            \n",
    "            if name==foundname:\n",
    "                print(foundname)\n",
    "                driver.find_element(By.XPATH, evaluatexpath).click()\n",
    "                # gradecss='#d2l-uid-75'\n",
    "                return True\n",
    "            \n",
    "        except Exception as e:\n",
    "            pass\n",
    "        finally:\n",
    "            if rownum>500: break\n",
    "            rownum+=1\n",
    "            \n",
    "    return False\n",
    "        "
   ]
  },
  {
   "cell_type": "code",
   "execution_count": null,
   "id": "6ee86062-c7fa-4ce0-a20e-a97ef3483c7e",
   "metadata": {
    "tags": []
   },
   "outputs": [
    {
     "name": "stdout",
     "output_type": "stream",
     "text": [
      "Abene, Jacob 93\n",
      "Abene, Jacob\n"
     ]
    },
    {
     "name": "stdin",
     "output_type": "stream",
     "text": [
      " \n"
     ]
    },
    {
     "name": "stdout",
     "output_type": "stream",
     "text": [
      "Alas, Carlos 76\n",
      "Alas, Carlos\n"
     ]
    },
    {
     "name": "stdin",
     "output_type": "stream",
     "text": [
      " \n"
     ]
    },
    {
     "name": "stdout",
     "output_type": "stream",
     "text": [
      "Arrington, Christopher 57\n",
      "Arrington, Christopher\n"
     ]
    },
    {
     "name": "stdin",
     "output_type": "stream",
     "text": [
      " \n"
     ]
    },
    {
     "name": "stdout",
     "output_type": "stream",
     "text": [
      "Asija, Kriti 91\n",
      "Asija, Kriti\n"
     ]
    },
    {
     "name": "stdin",
     "output_type": "stream",
     "text": [
      " \n"
     ]
    },
    {
     "name": "stdout",
     "output_type": "stream",
     "text": [
      "Channar, Sameer 76\n",
      "Channar, Sameer\n"
     ]
    },
    {
     "name": "stdin",
     "output_type": "stream",
     "text": [
      " \n"
     ]
    },
    {
     "name": "stdout",
     "output_type": "stream",
     "text": [
      "Chen, Ruanfan 78\n",
      "Chen, Ruanfan\n"
     ]
    },
    {
     "name": "stdin",
     "output_type": "stream",
     "text": [
      " \n"
     ]
    },
    {
     "name": "stdout",
     "output_type": "stream",
     "text": [
      "Chen, Xintong 96\n",
      "Chen, Xintong\n"
     ]
    },
    {
     "name": "stdin",
     "output_type": "stream",
     "text": [
      " \n"
     ]
    },
    {
     "name": "stdout",
     "output_type": "stream",
     "text": [
      "Clark, Daniel 64\n",
      "Clark, Daniel\n"
     ]
    },
    {
     "name": "stdin",
     "output_type": "stream",
     "text": [
      " \n"
     ]
    },
    {
     "name": "stdout",
     "output_type": "stream",
     "text": [
      "Cui, Yichen #VALUE!\n"
     ]
    },
    {
     "name": "stdin",
     "output_type": "stream",
     "text": [
      " \n"
     ]
    },
    {
     "name": "stdout",
     "output_type": "stream",
     "text": [
      "Das, Aryaman 95\n",
      "Das, Aryaman\n"
     ]
    },
    {
     "name": "stdin",
     "output_type": "stream",
     "text": [
      " \n"
     ]
    },
    {
     "name": "stdout",
     "output_type": "stream",
     "text": [
      "Dou, Wenjia 59\n",
      "Dou, Wenjia\n"
     ]
    },
    {
     "name": "stdin",
     "output_type": "stream",
     "text": [
      " \n"
     ]
    },
    {
     "name": "stdout",
     "output_type": "stream",
     "text": [
      "Fala, Matthew 84\n",
      "Fala, Matthew\n"
     ]
    },
    {
     "name": "stdin",
     "output_type": "stream",
     "text": [
      " \n"
     ]
    },
    {
     "name": "stdout",
     "output_type": "stream",
     "text": [
      "Fein-ashley, Jacob 64\n",
      "Fein-ashley, Jacob\n"
     ]
    },
    {
     "name": "stdin",
     "output_type": "stream",
     "text": [
      " \n"
     ]
    },
    {
     "name": "stdout",
     "output_type": "stream",
     "text": [
      "Gill, Ajit 86\n",
      "Gill, Ajit\n"
     ]
    },
    {
     "name": "stdin",
     "output_type": "stream",
     "text": [
      " \n"
     ]
    },
    {
     "name": "stdout",
     "output_type": "stream",
     "text": [
      "Guo, Zhaoyi 84\n",
      "Guo, Zhaoyi\n"
     ]
    },
    {
     "name": "stdin",
     "output_type": "stream",
     "text": [
      " \n"
     ]
    },
    {
     "name": "stdout",
     "output_type": "stream",
     "text": [
      "Gupta, Khyati 100\n",
      "Gupta, Khyati\n"
     ]
    },
    {
     "name": "stdin",
     "output_type": "stream",
     "text": [
      " \n"
     ]
    },
    {
     "name": "stdout",
     "output_type": "stream",
     "text": [
      "Hua, Wenlong 93\n",
      "Hua, Wenlong\n"
     ]
    },
    {
     "name": "stdin",
     "output_type": "stream",
     "text": [
      " \n"
     ]
    },
    {
     "name": "stdout",
     "output_type": "stream",
     "text": [
      "Hyder, Justin 92\n",
      "Hyder, Justin\n"
     ]
    },
    {
     "name": "stdin",
     "output_type": "stream",
     "text": [
      " \n"
     ]
    },
    {
     "name": "stdout",
     "output_type": "stream",
     "text": [
      "Jang, Sechang 93\n",
      "Jang, Sechang\n"
     ]
    },
    {
     "name": "stdin",
     "output_type": "stream",
     "text": [
      " \n"
     ]
    },
    {
     "name": "stdout",
     "output_type": "stream",
     "text": [
      "Kelani, Aaishah 98\n",
      "Kelani, Aaishah\n"
     ]
    },
    {
     "name": "stdin",
     "output_type": "stream",
     "text": [
      " \n"
     ]
    },
    {
     "name": "stdout",
     "output_type": "stream",
     "text": [
      "Le, Bryan 88\n",
      "Le, Bryan\n"
     ]
    },
    {
     "name": "stdin",
     "output_type": "stream",
     "text": [
      " \n"
     ]
    },
    {
     "name": "stdout",
     "output_type": "stream",
     "text": [
      "Lee, Chung-Han 85\n",
      "Lee, Chung-Han\n"
     ]
    },
    {
     "name": "stdin",
     "output_type": "stream",
     "text": [
      " \n"
     ]
    },
    {
     "name": "stdout",
     "output_type": "stream",
     "text": [
      "Liao, Yi - Kai 90\n",
      "Liao, Yi - Kai\n"
     ]
    },
    {
     "name": "stdin",
     "output_type": "stream",
     "text": [
      " \n"
     ]
    },
    {
     "name": "stdout",
     "output_type": "stream",
     "text": [
      "Liu, Junjian 91\n",
      "Liu, Junjian\n"
     ]
    },
    {
     "name": "stdin",
     "output_type": "stream",
     "text": [
      " \n"
     ]
    },
    {
     "name": "stdout",
     "output_type": "stream",
     "text": [
      "Padia, Shaivya 88\n",
      "Padia, Shaivya\n"
     ]
    },
    {
     "name": "stdin",
     "output_type": "stream",
     "text": [
      " \n"
     ]
    },
    {
     "name": "stdout",
     "output_type": "stream",
     "text": [
      "Riabukhina, Daria 90\n",
      "Riabukhina, Daria\n"
     ]
    },
    {
     "name": "stdin",
     "output_type": "stream",
     "text": [
      " \n"
     ]
    },
    {
     "name": "stdout",
     "output_type": "stream",
     "text": [
      "Roman, Adrian 100\n",
      "Roman, Adrian\n"
     ]
    },
    {
     "name": "stdin",
     "output_type": "stream",
     "text": [
      " \n"
     ]
    },
    {
     "name": "stdout",
     "output_type": "stream",
     "text": [
      "Song, Zhecheng 90\n",
      "Song, Zhecheng\n"
     ]
    },
    {
     "name": "stdin",
     "output_type": "stream",
     "text": [
      " \n"
     ]
    },
    {
     "name": "stdout",
     "output_type": "stream",
     "text": [
      "Stephanus, Michael 81\n",
      "Stephanus, Michael\n"
     ]
    },
    {
     "name": "stdin",
     "output_type": "stream",
     "text": [
      " \n"
     ]
    },
    {
     "name": "stdout",
     "output_type": "stream",
     "text": [
      "Thakur, Govind 86\n",
      "Thakur, Govind\n"
     ]
    },
    {
     "name": "stdin",
     "output_type": "stream",
     "text": [
      " \n"
     ]
    },
    {
     "name": "stdout",
     "output_type": "stream",
     "text": [
      "Tismansky, Yaniv 88\n",
      "Tismansky, Yaniv\n"
     ]
    },
    {
     "name": "stdin",
     "output_type": "stream",
     "text": [
      " \n"
     ]
    },
    {
     "name": "stdout",
     "output_type": "stream",
     "text": [
      "Toydemir, Ada 68\n",
      "Toydemir, Ada\n"
     ]
    },
    {
     "name": "stdin",
     "output_type": "stream",
     "text": [
      " \n"
     ]
    },
    {
     "name": "stdout",
     "output_type": "stream",
     "text": [
      "Wan, Zhiyu 97\n",
      "Wan, Zhiyu\n"
     ]
    },
    {
     "name": "stdin",
     "output_type": "stream",
     "text": [
      " \n"
     ]
    },
    {
     "name": "stdout",
     "output_type": "stream",
     "text": [
      "Wang, Haofei 94\n",
      "Wang, Haofei\n"
     ]
    },
    {
     "name": "stdin",
     "output_type": "stream",
     "text": [
      " \n"
     ]
    },
    {
     "name": "stdout",
     "output_type": "stream",
     "text": [
      "Wu, Yonghao 89\n",
      "Wu, Yonghao\n"
     ]
    },
    {
     "name": "stdin",
     "output_type": "stream",
     "text": [
      " \n"
     ]
    },
    {
     "name": "stdout",
     "output_type": "stream",
     "text": [
      "Xiao, Han 86\n",
      "Xiao, Han\n"
     ]
    }
   ],
   "source": [
    "driver = webdriver.Firefox()\n",
    "login()\n",
    "while True:\n",
    "    name,score,fb,iloc = getstudent()\n",
    "    print(name,score)\n",
    "    pyperclip.copy(fb)\n",
    "    \n",
    "    login(first=False)\n",
    "\n",
    "    # break\n",
    "    \n",
    "    for i in range(1,4):\n",
    "        # page(i)\n",
    "        if dostudent(name): break\n",
    "        \n",
    "    input()\n",
    "    # driver.close()\n",
    "    iloc+=1\n",
    "    with open(\"status.txt\",'w') as g:\n",
    "        g.write(str(iloc))"
   ]
  },
  {
   "cell_type": "code",
   "execution_count": null,
   "id": "4eba920a-c2a9-4d0c-b7d9-19f51f1c66ae",
   "metadata": {},
   "outputs": [],
   "source": []
  }
 ],
 "metadata": {
  "kernelspec": {
   "display_name": "web",
   "language": "python",
   "name": "web"
  },
  "language_info": {
   "codemirror_mode": {
    "name": "ipython",
    "version": 3
   },
   "file_extension": ".py",
   "mimetype": "text/x-python",
   "name": "python",
   "nbconvert_exporter": "python",
   "pygments_lexer": "ipython3",
   "version": "3.11.3"
  }
 },
 "nbformat": 4,
 "nbformat_minor": 5
}
